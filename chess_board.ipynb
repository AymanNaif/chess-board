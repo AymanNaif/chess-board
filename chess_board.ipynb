{
 "cells": [
  {
   "cell_type": "code",
   "execution_count": 1,
   "id": "e6ce5316-2548-4b3e-928b-bd1eb1fdafbe",
   "metadata": {},
   "outputs": [],
   "source": [
    "%matplotlib inline\n",
    "import matplotlib.pyplot as plt\n",
    "import matplotlib.image as mpimg\n",
    "import numpy as np\n",
    "from random import random"
   ]
  },
  {
   "cell_type": "code",
   "execution_count": 2,
   "id": "ade816cc-07f7-45e2-bde1-bec56dc01b8a",
   "metadata": {},
   "outputs": [],
   "source": [
    "class ChessBoard:\n",
    "    def __init__(self):\n",
    "        self.grid=np.ones((8,8,3))\n",
    "        for i in range(len(self.grid)):\n",
    "            for j in range(len(self.grid)):\n",
    "                if i%2 == 0 and j%2 ==1:\n",
    "                    self.grid[i,j]= [0,0,0]\n",
    "                if i%2 == 1 and j%2 ==0:\n",
    "                    self.grid[i,j]= [0,0,0]\n",
    "       \n",
    "    def add_red(self,row,column):\n",
    "        self.grid[row,column]=[1,.2,0]\n",
    "\n",
    "    \n",
    "    def add_blue(self,row,column):\n",
    "        self.grid[row,column]=[0,1,1]\n",
    "    \n",
    "    def render(self):\n",
    "        plt.imshow(self.grid)\n",
    "    \n",
    "    def is_under_attack (self,player1,player2):\n",
    "        if player1[0] == player2[0] or player1[1] == player2[1]:\n",
    "            return True\n",
    "        elif abs(player1[0] - player2[0]) == abs(player1[1] - player2[1] ):\n",
    "            return True\n",
    "        else :\n",
    "            return False\n",
    "        \n",
    "                \n"
   ]
  },
  {
   "cell_type": "markdown",
   "id": "7699918d-008f-4ffc-b3af-a1ee950df288",
   "metadata": {},
   "source": [
    "## Test :: "
   ]
  },
  {
   "cell_type": "code",
   "execution_count": 3,
   "id": "c28efa01-0103-4f5f-bfaa-dcfa1c6fe61f",
   "metadata": {},
   "outputs": [],
   "source": [
    "def test_same_row():\n",
    "    board = ChessBoard()\n",
    "    assert board.is_under_attack([7,3], [7,0]) == True"
   ]
  },
  {
   "cell_type": "code",
   "execution_count": 4,
   "id": "f756ed6f-bfac-4ed9-be32-8ca07d139203",
   "metadata": {},
   "outputs": [],
   "source": [
    "test_same_row()"
   ]
  },
  {
   "cell_type": "code",
   "execution_count": 5,
   "id": "8110dad9-f7d2-489a-a687-762a261e5f0a",
   "metadata": {},
   "outputs": [],
   "source": [
    "def test_same_column():\n",
    "    board = ChessBoard()\n",
    "    assert board.is_under_attack([6,2], [5,2]) == True"
   ]
  },
  {
   "cell_type": "code",
   "execution_count": 6,
   "id": "af74d812-db31-45a9-b0fc-676f86e08429",
   "metadata": {},
   "outputs": [],
   "source": [
    "test_same_column()"
   ]
  },
  {
   "cell_type": "code",
   "execution_count": 7,
   "id": "4a1ab032-a20f-4455-8f32-baa13028eae9",
   "metadata": {},
   "outputs": [],
   "source": [
    "def test_same_diagonal():\n",
    "    board = ChessBoard()\n",
    "    assert board.is_under_attack([0,3], [3,6]) == True"
   ]
  },
  {
   "cell_type": "code",
   "execution_count": 8,
   "id": "f0661266-3f76-40ce-a752-bcabc01252f7",
   "metadata": {},
   "outputs": [],
   "source": [
    "test_same_diagonal()"
   ]
  },
  {
   "cell_type": "code",
   "execution_count": 9,
   "id": "e7875ace-49db-4163-8ad0-59a88cf403d2",
   "metadata": {},
   "outputs": [],
   "source": [
    "def test_other_coordinates():\n",
    "    board = ChessBoard()\n",
    "    board.add_red(0,2)\n",
    "    board.add_blue(6,5)\n",
    "    board.render()\n",
    "    assert board.is_under_attack([6,2], [5,4]) == False"
   ]
  },
  {
   "cell_type": "code",
   "execution_count": 10,
   "id": "a2a156c1-4aa7-4008-a645-0fbf2af7fab1",
   "metadata": {},
   "outputs": [
    {
     "data": {
      "image/png": "[encoded data removed]",
      "text/plain": [
       "<Figure size 432x288 with 1 Axes>"
      ]
     },
     "metadata": {
      "needs_background": "light"
     },
     "output_type": "display_data"
    }
   ],
   "source": [
    "test_other_coordinates()"
   ]
  }
 ],
 "metadata": {
  "kernelspec": {
   "display_name": "Python 3",
   "language": "python",
   "name": "python3"
  },
  "language_info": {
   "codemirror_mode": {
    "name": "ipython",
    "version": 3
   },
   "file_extension": ".py",
   "mimetype": "text/x-python",
   "name": "python",
   "nbconvert_exporter": "python",
   "pygments_lexer": "ipython3",
   "version": "3.9.4"
  }
 },
 "nbformat": 4,
 "nbformat_minor": 5
}
